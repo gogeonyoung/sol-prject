{
 "cells": [
  {
   "cell_type": "markdown",
   "id": "fea0b097",
   "metadata": {},
   "source": [
    "### 미성년자 판독프로그램"
   ]
  },
  {
   "cell_type": "code",
   "execution_count": 52,
   "id": "b66ec351",
   "metadata": {},
   "outputs": [
    {
     "name": "stdout",
     "output_type": "stream",
     "text": [
      "나이를 입력하세요:19\n",
      "미성년자입니다.\n"
     ]
    }
   ],
   "source": [
    "age = input(\"나이를 입력하세요:\")\n",
    "if int(age) < 20:\n",
    "    print(\"미성년자입니다.\")\n",
    "else:\n",
    "    print(\"협조해주셔서 감사합니다.\")"
   ]
  },
  {
   "cell_type": "markdown",
   "id": "52e724ad",
   "metadata": {},
   "source": [
    "### 짝수홀수판단 프로그램"
   ]
  },
  {
   "cell_type": "code",
   "execution_count": 58,
   "id": "6a199fe9",
   "metadata": {},
   "outputs": [
    {
     "name": "stdout",
     "output_type": "stream",
     "text": [
      "숫자를 입력하세요 :10\n",
      "짝수 입니다.\n"
     ]
    }
   ],
   "source": [
    "숫자 = input(\"숫자를 입력하세요 :\")\n",
    "if int(숫자)%2==0:\n",
    "    print(\"짝수 입니다.\")\n",
    "else : \n",
    "        print(\"홀수 입니다.\")"
   ]
  },
  {
   "cell_type": "markdown",
   "id": "a3b5faf4",
   "metadata": {},
   "source": [
    "### 도어락 비밀번호 재설정"
   ]
  },
  {
   "cell_type": "code",
   "execution_count": 83,
   "id": "0d61d4f6",
   "metadata": {},
   "outputs": [
    {
     "name": "stdout",
     "output_type": "stream",
     "text": [
      "초기 비밀번호 입력 :1203\n",
      "초기 비밀번호를 1203 로 설정하셨습니다.\n",
      "변경할 비밀번호 입력:2231\n",
      "변경된 비밀번호는 2231 입니다.\n",
      "프로그램을 종료합니다.\n"
     ]
    }
   ],
   "source": [
    "pw = input(\"초기 비밀번호 입력 :\")\n",
    "print(\"초기 비밀번호를\", int(pw),\"로 설정하셨습니다.\")\n",
    "if pw := input(\"변경할 비밀번호 입력:\"):\n",
    "    print(\"변경된 비밀번호는\", int(pw), \"입니다.\")\n",
    "    print(\"프로그램을 종료합니다.\")"
   ]
  },
  {
   "cell_type": "markdown",
   "id": "fb60a76d",
   "metadata": {},
   "source": [
    "### 예방접종 프로그램"
   ]
  },
  {
   "cell_type": "code",
   "execution_count": 89,
   "id": "4ffe6039",
   "metadata": {},
   "outputs": [
    {
     "name": "stdout",
     "output_type": "stream",
     "text": [
      "태어난지 몇개월 인가요? (입력) :11\n",
      "파상풍 접종 대상자입니다.\n",
      "코로나 접종 대상자입니다.\n"
     ]
    }
   ],
   "source": [
    "age = input(\"태어난지 몇개월 인가요? (입력) :\")\n",
    "if int(age)>=0 and int(age) <=1 :\n",
    "    print(\"결핵 예방접종 대상자입니다.\")\n",
    "    print(\"B형 간염 접종 대상자입니다.\")\n",
    "elif int(age) >1 and int(age) <=2 :\n",
    "    print(\"B형 간염 접종 대상자입니다.\")\n",
    "elif int(age) >=2 and int(age) <=6 :\n",
    "    print(\"B형 간염 접종 대상자입니다.\")\n",
    "    print(\"파상풍 접종 대상자입니다.\")\n",
    "elif int(age) >=6 and int(age)<=12 :\n",
    "    print(\"파상풍 접종 대상자입니다.\")\n",
    "    print(\"코로나 접종 대상자입니다.\")"
   ]
  },
  {
   "cell_type": "markdown",
   "id": "cecbd102",
   "metadata": {},
   "source": [
    "### 가장큰 숫자 찾기"
   ]
  },
  {
   "cell_type": "code",
   "execution_count": 102,
   "id": "42727337",
   "metadata": {},
   "outputs": [
    {
     "name": "stdout",
     "output_type": "stream",
     "text": [
      "첫번째 숫자를 입력하세요 :2\n",
      "두번째 숫자를 입력하세요 :5\n",
      "세번째 숫자를 입력하세요 :1\n",
      "가장 큰 숫자는 5 입니다.\n"
     ]
    }
   ],
   "source": [
    "a = input(\"첫번째 숫자를 입력하세요 :\")\n",
    "b = input(\"두번째 숫자를 입력하세요 :\")\n",
    "c = input(\"세번째 숫자를 입력하세요 :\")\n",
    "if  True :\n",
    "    print(\"가장 큰 숫자는\", max(int(a),int(b),int(c)),\"입니다.\")\n",
    "elif a==b==c :\n",
    "    print(\"가장 큰 숫자는\", int(a),\"입니다.\")"
   ]
  },
  {
   "cell_type": "markdown",
   "id": "75b96e15",
   "metadata": {},
   "source": [
    "### 연령확인 프로그램"
   ]
  },
  {
   "cell_type": "code",
   "execution_count": 107,
   "id": "70524f57",
   "metadata": {},
   "outputs": [
    {
     "name": "stdout",
     "output_type": "stream",
     "text": [
      "나이를 입력하세요 :33\n",
      "당신은 30대 이군요!\n"
     ]
    }
   ],
   "source": [
    "age = input(\"나이를 입력하세요 :\")\n",
    "if int(age)<10:\n",
    "    print(\"당신은 어린이 이군요!\")\n",
    "elif int(age)>=10 and int(age)<20:\n",
    "    print(\"당신는 10대 이군요!\")\n",
    "elif int(age)>=20 and int(age)<30:\n",
    "    print(\"당신은 20대 이군요!\")\n",
    "elif int(age)>=30 and int(age)<40:\n",
    "    print(\"당신은 30대 이군요!\")\n",
    "else :\n",
    "    print(\"당신은 40대 이상이시군요!\")"
   ]
  },
  {
   "cell_type": "markdown",
   "id": "e3d93ac1",
   "metadata": {},
   "source": [
    "### 영화 추천!!!"
   ]
  },
  {
   "cell_type": "code",
   "execution_count": 8,
   "id": "8ace5efd",
   "metadata": {},
   "outputs": [
    {
     "name": "stdout",
     "output_type": "stream",
     "text": [
      "나이를 입력하세요 :12\n",
      "어벤저스를 추천드려요!\n",
      "뮬란을 추천드려요!\n"
     ]
    }
   ],
   "source": [
    "age = input(\"나이를 입력하세요 :\")\n",
    "\n",
    "if int(age)<20:\n",
    "    print(\"어벤저스를 추천드려요!\")\n",
    "    print(\"뮬란을 추천드려요!\")\n",
    "elif int(age)<20 or int(age)<40:\n",
    "    print(\"뮬란을 추천드려요!\")\n",
    "    print(\"테넷을 추천드려요!\")\n",
    "    print(\"오!문희를 추천드려요!\")\n",
    "elif int(age)>=40 and int(age)<60:\n",
    "    print(\"테넷을 추천드려요!\")\n",
    "else:\n",
    "    print(\"오!문희를 추천드려요!\")"
   ]
  },
  {
   "cell_type": "code",
   "execution_count": null,
   "id": "fb089ef7",
   "metadata": {},
   "outputs": [],
   "source": []
  }
 ],
 "metadata": {
  "kernelspec": {
   "display_name": "Python 3 (ipykernel)",
   "language": "python",
   "name": "python3"
  },
  "language_info": {
   "codemirror_mode": {
    "name": "ipython",
    "version": 3
   },
   "file_extension": ".py",
   "mimetype": "text/x-python",
   "name": "python",
   "nbconvert_exporter": "python",
   "pygments_lexer": "ipython3",
   "version": "3.10.9"
  }
 },
 "nbformat": 4,
 "nbformat_minor": 5
}
